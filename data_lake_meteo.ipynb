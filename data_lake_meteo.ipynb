{
 "cells": [
  {
   "cell_type": "code",
   "execution_count": 10,
   "metadata": {},
   "outputs": [],
   "source": [
    "import requests\n",
    "csv_url = \"https://public.opendatasoft.com/api/records/1.0/download/?dataset=donnees-synop-essentielles-omm&facet=nom&refine.nom=NICE&format=csv&csv_separator=;&fields=date,pmer,tend,cod_tend,dd,ff,t,td,u,vv,n,nbas,hbas,cl,cm,ch,niv_bar,tn12,tx12,tminsol,raf10,rafper,per,rr3,rr6,rr12,rr24,phenspe1,phenspe2,phenspe3,phenspe4,nnuage1,ctype1,hnuage1,nnuage2,ctype2,hnuage2,nnuage3,ctype3,hnuage3,nnuage4,ctype4,hnuage4,mois_de_l_annee\"\n",
    "req = requests.get(csv_url)\n",
    "url_content = req.content\n",
    "csv_file = open('meteo.csv', 'wb')\n",
    "csv_file.write(url_content)\n",
    "csv_file.close()"
   ]
  },
  {
   "cell_type": "code",
   "execution_count": null,
   "metadata": {},
   "outputs": [],
   "source": []
  }
 ],
 "metadata": {
  "kernelspec": {
   "display_name": "Python 3",
   "language": "python",
   "name": "python3"
  },
  "language_info": {
   "codemirror_mode": {
    "name": "ipython",
    "version": 3
   },
   "file_extension": ".py",
   "mimetype": "text/x-python",
   "name": "python",
   "nbconvert_exporter": "python",
   "pygments_lexer": "ipython3",
   "version": "3.8.3"
  }
 },
 "nbformat": 4,
 "nbformat_minor": 4
}
